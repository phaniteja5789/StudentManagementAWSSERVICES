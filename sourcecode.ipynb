{
 "cells": [
  {
   "cell_type": "code",
   "execution_count": 45,
   "metadata": {},
   "outputs": [],
   "source": [
    "import boto3\n",
    "import json\n",
    "import random\n",
    "import string"
   ]
  },
  {
   "cell_type": "code",
   "execution_count": 46,
   "metadata": {},
   "outputs": [],
   "source": [
    "def createStudentRecord():\n",
    "    \n",
    "    student_id = random.randint(1,100)\n",
    "    student_name = \"\".join(random.choices(string.ascii_letters,k=5))\n",
    "    student_marks = random.randint(0,100)\n",
    "    return {\"student_id\":student_id, \"student_name\":student_name, \"student_marks\":student_marks}\n",
    "\n",
    "student_details = createStudentRecord()\n",
    "\n",
    "fileObject = open(\"./StudentDetails.txt\",\"w\")\n",
    "json.dump(student_details,fileObject)\n",
    "fileObject.close()"
   ]
  },
  {
   "cell_type": "code",
   "execution_count": 47,
   "metadata": {},
   "outputs": [],
   "source": [
    "## S3 BOTO3 API\n",
    "s3_client = boto3.client('s3')"
   ]
  },
  {
   "cell_type": "code",
   "execution_count": 48,
   "metadata": {},
   "outputs": [],
   "source": [
    "def create_bucket(bucketName):\n",
    "    return s3_client.create_bucket(Bucket = bucketName)\n",
    "\n",
    "bucket_name = \"studentmanagementbucket\"+ str(random.randint(10,18) * random.randint(100,999))\n",
    "bucketCreation_Response = create_bucket(bucket_name)"
   ]
  },
  {
   "cell_type": "code",
   "execution_count": 49,
   "metadata": {},
   "outputs": [],
   "source": [
    "lambda_client = boto3.client('lambda')"
   ]
  },
  {
   "cell_type": "code",
   "execution_count": 50,
   "metadata": {},
   "outputs": [],
   "source": [
    "lambda_function_arn = lambda_client.get_function( FunctionName = \"ProcessStudentDetailsFunction\")[\"Configuration\"][\"FunctionArn\"]"
   ]
  },
  {
   "cell_type": "code",
   "execution_count": 51,
   "metadata": {},
   "outputs": [],
   "source": [
    "lambda_configuration = {\n",
    "    \"LambdaFunctionConfigurations\" :[\n",
    "        {\n",
    "            \"Id\": \"EventLambda\",\n",
    "            \"LambdaFunctionArn\" : lambda_function_arn,\n",
    "            \"Events\" : ['s3:ObjectCreated:*']\n",
    "        }\n",
    "    ]\n",
    "}"
   ]
  },
  {
   "cell_type": "code",
   "execution_count": 52,
   "metadata": {},
   "outputs": [],
   "source": [
    "bucket_arn = f'arn:aws:s3:::{bucket_name}'\n",
    "lamda_permission_response = lambda_client.add_permission(\n",
    "    FunctionName = \"ProcessStudentDetailsFunction\",\n",
    "    StatementId = str(random.randint(1,1000)),\n",
    "    Action = \"lambda:InvokeFunction\",\n",
    "    Principal = \"s3.amazonaws.com\",\n",
    "    SourceArn = bucket_arn\n",
    ")"
   ]
  },
  {
   "cell_type": "code",
   "execution_count": 53,
   "metadata": {},
   "outputs": [],
   "source": [
    "if bucketCreation_Response[\"ResponseMetadata\"][\"HTTPStatusCode\"] == 200 and lamda_permission_response[\"ResponseMetadata\"][\"HTTPStatusCode\"] == 201:\n",
    "    s3_client.put_bucket_notification_configuration(\n",
    "    Bucket=bucket_name,\n",
    "    NotificationConfiguration=lambda_configuration\n",
    "    )\n",
    "    s3_client.upload_file('./StudentDetails.txt',bucket_name,\"StudentDetails.txt\")\n",
    "else:\n",
    "    print(bucketCreation_Response,lamda_permission_response)"
   ]
  }
 ],
 "metadata": {
  "kernelspec": {
   "display_name": "studentmanagement_venv",
   "language": "python",
   "name": "python3"
  },
  "language_info": {
   "codemirror_mode": {
    "name": "ipython",
    "version": 3
   },
   "file_extension": ".py",
   "mimetype": "text/x-python",
   "name": "python",
   "nbconvert_exporter": "python",
   "pygments_lexer": "ipython3",
   "version": "3.11.5"
  },
  "orig_nbformat": 4
 },
 "nbformat": 4,
 "nbformat_minor": 2
}
